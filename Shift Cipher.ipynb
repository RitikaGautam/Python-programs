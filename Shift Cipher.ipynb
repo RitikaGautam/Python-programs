{
 "cells": [
  {
   "cell_type": "markdown",
   "metadata": {},
   "source": [
    "# 2)\tShift Cipher"
   ]
  },
  {
   "cell_type": "code",
   "execution_count": 5,
   "metadata": {},
   "outputs": [
    {
     "name": "stdout",
     "output_type": "stream",
     "text": [
      "Enter the text=ritika\n",
      "Enter the key=3\n",
      "Enter 1 for Encryption\n",
      "Enter 2 for Decryption\n",
      "Enter your choice1\n",
      "Encrypted Text: ulwlnd\n",
      "do you want to continue(y/n)y\n",
      "Enter your choice2\n",
      "Decrypted Text: ritika\n",
      "do you want to continue(y/n)n\n"
     ]
    }
   ],
   "source": [
    "\n",
    "def encrypt(text,s): \n",
    "    result = \"\"   \n",
    "    # traverse text \n",
    "    for i in range(len(text)): \n",
    "        char = text[i] \n",
    "  \n",
    "        # Encrypt uppercase characters \n",
    "        if (char.isupper()): \n",
    "            result += chr((ord(char) + s-65) % 26+65) \n",
    "  \n",
    "        # Encrypt lowercase characters \n",
    "        else: \n",
    "            result += chr((ord(char) + s -97) % 26+97) \n",
    "  \n",
    "    return result \n",
    "def decrypt(text,s):\n",
    "    result1=\"\"\n",
    "    # traverse text \n",
    "    for i in range(len(text)): \n",
    "        char = text[i] \n",
    "  \n",
    "        # decrypt uppercase characters \n",
    "        if (char.isupper()): \n",
    "            result1 += chr(((ord(char) - s-65) % 26+ 65)) \n",
    "  \n",
    "        # decrypt lowercase characters \n",
    "        else: \n",
    "            result1 += chr(((ord(char) - s - 97) % 26 + 97)) \n",
    "  \n",
    "    return result1 \n",
    "input1=input(\"Enter the text=\")\n",
    "input2=int(input(\"Enter the key=\"))\n",
    "print(\"Enter 1 for Encryption\")\n",
    "print(\"Enter 2 for Decryption\")\n",
    "ch='y'\n",
    "while(ch=='y' or ch=='Y'):\n",
    "    input3=input(\"Enter your choice\")\n",
    "    result= encrypt(input1,input2)\n",
    "    result2=decrypt(result,input2)\n",
    "    if(input3=='1'): \n",
    "        print(\"Encrypted Text:\",result)\n",
    "    elif(input3=='2'):\n",
    "        print(\"Decrypted Text:\",result2)\n",
    "    ch=input(\"do you want to continue(y/n)\")"
   ]
  },
  {
   "cell_type": "code",
   "execution_count": null,
   "metadata": {},
   "outputs": [],
   "source": []
  }
 ],
 "metadata": {
  "kernelspec": {
   "display_name": "Python 3",
   "language": "python",
   "name": "python3"
  },
  "language_info": {
   "codemirror_mode": {
    "name": "ipython",
    "version": 3
   },
   "file_extension": ".py",
   "mimetype": "text/x-python",
   "name": "python",
   "nbconvert_exporter": "python",
   "pygments_lexer": "ipython3",
   "version": "3.7.3"
  }
 },
 "nbformat": 4,
 "nbformat_minor": 2
}
