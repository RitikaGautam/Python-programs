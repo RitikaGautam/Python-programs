{
 "cells": [
  {
   "cell_type": "markdown",
   "metadata": {},
   "source": [
    "# Gradient descent\n"
   ]
  },
  {
   "cell_type": "code",
   "execution_count": 1,
   "metadata": {},
   "outputs": [
    {
     "name": "stdout",
     "output_type": "stream",
     "text": [
      "Minimum value of function y=(x+3)^2 is  -2.995107690015047\n"
     ]
    }
   ],
   "source": [
    "x =2#initial value of x\n",
    "lr=0.01#learning rate\n",
    "prec=1\n",
    "df=lambda x: 2*(x+3)  #derivative function value\n",
    "while prec>0.0001:\n",
    "    prev_x= x \n",
    "    x = x -lr*df(x)    #update x by taking a step(learning rate) in the opposite direction of ascent\n",
    "    prec=prev_x-x     #iterate till two consecutive x reach the precision of 0.0001\n",
    "print(\"Minimum value of function y=(x+3)^2 is \",x)"
   ]
  },
  {
   "cell_type": "code",
   "execution_count": null,
   "metadata": {},
   "outputs": [],
   "source": []
  }
 ],
 "metadata": {
  "kernelspec": {
   "display_name": "Python 3",
   "language": "python",
   "name": "python3"
  },
  "language_info": {
   "codemirror_mode": {
    "name": "ipython",
    "version": 3
   },
   "file_extension": ".py",
   "mimetype": "text/x-python",
   "name": "python",
   "nbconvert_exporter": "python",
   "pygments_lexer": "ipython3",
   "version": "3.7.3"
  }
 },
 "nbformat": 4,
 "nbformat_minor": 2
}
