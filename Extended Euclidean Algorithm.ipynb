{
 "cells": [
  {
   "cell_type": "markdown",
   "metadata": {},
   "source": [
    "##  Q. Write a program to find inverse modulo using Extended Euclidean Algorithm."
   ]
  },
  {
   "cell_type": "code",
   "execution_count": 13,
   "metadata": {},
   "outputs": [
    {
     "name": "stdout",
     "output_type": "stream",
     "text": [
      "Enter the number= 23\n",
      "Enter the modulo= 100\n",
      "q     r1      r2      r      t1      t2      t\n",
      "4      100      23      8      0      1      -4\n",
      "2      23      8      7      1      -4      9\n",
      "1      8      7      1      -4      9      -13\n",
      "7      7      1      0      9      -13      100\n",
      "Inverse of  23 modulo 100  is =  87\n"
     ]
    }
   ],
   "source": [
    "import pandas as pd\n",
    "import math\n",
    "data=[]\n",
    "# extended Euclidean Algorithm\n",
    "def gcdExtended(r1, r2, t1, t2):\n",
    "    x=r1\n",
    "    r=t=b=1\n",
    "    print('q    ','r1     ','r2     ','r     ','t1     ','t2     ','t')\n",
    "    while(r2>0):\n",
    "        q=math.floor(r1/r2) \n",
    "        r=r1-q*r2\n",
    "        t=t1-q*t2\n",
    "        print(q,\"    \",r1,\"    \",r2,\"    \",r,\"    \",t1,\"    \",t2,\"    \",t)\n",
    "        r1=r2\n",
    "        r2=r           \n",
    "        t1=t2\n",
    "        t2=t\n",
    "    if(r1==1):\n",
    "        b=t1%x                \n",
    "        return b\n",
    "    else:\n",
    "        print(\"Inverse not exist\")\n",
    "        return\n",
    "    \n",
    "    \n",
    "t1 = 0\n",
    "t2 = 1\n",
    "r2 = int(input(\"Enter the number= \"))\n",
    "r1 = int(input(\"Enter the modulo= \"))\n",
    "g = gcdExtended(r1, r2, t1, t2)\n",
    "\n",
    "print(\"Inverse of \", r2 , \"modulo\" , r1, \" is = \", g)"
   ]
  },
  {
   "cell_type": "code",
   "execution_count": null,
   "metadata": {},
   "outputs": [],
   "source": []
  }
 ],
 "metadata": {
  "kernelspec": {
   "display_name": "Python 3",
   "language": "python",
   "name": "python3"
  },
  "language_info": {
   "codemirror_mode": {
    "name": "ipython",
    "version": 3
   },
   "file_extension": ".py",
   "mimetype": "text/x-python",
   "name": "python",
   "nbconvert_exporter": "python",
   "pygments_lexer": "ipython3",
   "version": "3.7.3"
  }
 },
 "nbformat": 4,
 "nbformat_minor": 2
}
