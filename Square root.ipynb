{
 "cells": [
  {
   "cell_type": "markdown",
   "metadata": {},
   "source": [
    "# Write a python program to find square root of a given number (n)\n",
    "#within a given precision (p). Do not use any predefined library. \n",
    "#(Take a guess, compute error at each successive step, until error is less than given precision)"
   ]
  },
  {
   "cell_type": "code",
   "execution_count": 2,
   "metadata": {},
   "outputs": [
    {
     "name": "stdout",
     "output_type": "stream",
     "text": [
      "Enter a number 89\n",
      "Enter a precision 0.01\n",
      "Square root of a number is=\n",
      "9.434249877929688\n"
     ]
    }
   ],
   "source": [
    "\n",
    "def sq_root(n,prec):\n",
    "    start=0\n",
    "    end=n\n",
    "    guess=(start+end)/2\n",
    "    err=abs((guess*guess)-n)\n",
    "    while(err>prec):\n",
    "        if(guess*guess>n): #overestimate, take the left half\n",
    "            end=guess\n",
    "        elif(guess*guess<n):#underestimate, take the right half\n",
    "            start=guess\n",
    "        else:\n",
    "            return guess\n",
    "        guess=(start+end)/2\n",
    "        err=abs(guess*guess-n)\n",
    "    return guess #perfect square root found\n",
    "num=int(input(\"Enter a number \"))\n",
    "prec=float(input(\"Enter a precision \"))\n",
    "print(\"Square root of a number is=\")\n",
    "result=sq_root(num,prec)\n",
    "print(result)"
   ]
  },
  {
   "cell_type": "code",
   "execution_count": null,
   "metadata": {},
   "outputs": [],
   "source": []
  }
 ],
 "metadata": {
  "kernelspec": {
   "display_name": "Python 3",
   "language": "python",
   "name": "python3"
  },
  "language_info": {
   "codemirror_mode": {
    "name": "ipython",
    "version": 3
   },
   "file_extension": ".py",
   "mimetype": "text/x-python",
   "name": "python",
   "nbconvert_exporter": "python",
   "pygments_lexer": "ipython3",
   "version": "3.7.3"
  }
 },
 "nbformat": 4,
 "nbformat_minor": 2
}
