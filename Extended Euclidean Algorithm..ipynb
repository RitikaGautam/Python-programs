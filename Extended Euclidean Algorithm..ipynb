{
 "cells": [
  {
   "cell_type": "markdown",
   "metadata": {},
   "source": [
    "# Q. Write a program to check whether a number is prime or not using Fermat’s primality testing."
   ]
  },
  {
   "cell_type": "code",
   "execution_count": 1,
   "metadata": {},
   "outputs": [
    {
     "name": "stdout",
     "output_type": "stream",
     "text": [
      "Enter a number= 97\n",
      "97 is = Prime\n"
     ]
    }
   ],
   "source": [
    "import random\n",
    "import math\n",
    " \n",
    "def get_coprime(n):\n",
    "    while True:\n",
    "        coprime = random.randrange(1,n)\n",
    "       # print(coprime)\n",
    "        if math.gcd(coprime, n) == 1:\n",
    "            #print(\"true\")\n",
    "            return True\n",
    "        else:\n",
    "            #print(\"false\")\n",
    "            return False\n",
    " \n",
    " \n",
    "def fermat_primality(n):\n",
    "    for i in range(1000):\n",
    "        if (get_coprime(n)== False):\n",
    "            return \"Composite\"\n",
    "    return \"Prime\"\n",
    "n=int(input(\"Enter a number= \"))\n",
    "x=fermat_primality(n)\n",
    "print(n, \"is =\", x)"
   ]
  },
  {
   "cell_type": "code",
   "execution_count": null,
   "metadata": {},
   "outputs": [],
   "source": []
  }
 ],
 "metadata": {
  "kernelspec": {
   "display_name": "Python 3",
   "language": "python",
   "name": "python3"
  },
  "language_info": {
   "codemirror_mode": {
    "name": "ipython",
    "version": 3
   },
   "file_extension": ".py",
   "mimetype": "text/x-python",
   "name": "python",
   "nbconvert_exporter": "python",
   "pygments_lexer": "ipython3",
   "version": "3.7.3"
  }
 },
 "nbformat": 4,
 "nbformat_minor": 2
}
