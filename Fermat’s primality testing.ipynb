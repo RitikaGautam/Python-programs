{
 "cells": [
  {
   "cell_type": "markdown",
   "metadata": {},
   "source": [
    "# Q.Write a program to implement square and multiply method to do modular exponentiation"
   ]
  },
  {
   "cell_type": "code",
   "execution_count": null,
   "metadata": {},
   "outputs": [],
   "source": [
    "def exp_func(x, y,mod):\n",
    "    exp = bin(y).replace(\"0b\", \"\")  \n",
    "    value = 1\n",
    "    y=1\n",
    "    for i in range(len(exp)-1,-1,-1):      \n",
    "        if(exp[i]=='1'):\n",
    "            value =(value*x)%mod\n",
    "            x=value\n",
    "            y=y*value\n",
    "        else:\n",
    "            value = (value * x)%mod\n",
    "            x=value\n",
    "    return y%mod\n",
    "\n",
    "x=int(input(\"Enter a number=\"))\n",
    "y=int(input(\"Enter a power=\"))\n",
    "mod=int(input(\"Enter a modulo=\"))\n",
    "\n",
    "x1=exp_func(x,y,mod)\n",
    "print(\"Modular Exponentiation of \",x,\"^\",(y),\"mod\",mod,\"=\", x1)"
   ]
  }
 ],
 "metadata": {
  "kernelspec": {
   "display_name": "Python 3",
   "language": "python",
   "name": "python3"
  },
  "language_info": {
   "codemirror_mode": {
    "name": "ipython",
    "version": 3
   },
   "file_extension": ".py",
   "mimetype": "text/x-python",
   "name": "python",
   "nbconvert_exporter": "python",
   "pygments_lexer": "ipython3",
   "version": "3.7.3"
  }
 },
 "nbformat": 4,
 "nbformat_minor": 2
}
